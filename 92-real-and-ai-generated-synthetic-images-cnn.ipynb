{
 "cells": [
  {
   "cell_type": "markdown",
   "id": "2008bb80",
   "metadata": {
    "papermill": {
     "duration": 0.013108,
     "end_time": "2023-05-16T01:52:24.136458",
     "exception": false,
     "start_time": "2023-05-16T01:52:24.123350",
     "status": "completed"
    },
    "tags": []
   },
   "source": [
    "## Basic Libraries"
   ]
  },
  {
   "cell_type": "code",
   "execution_count": 1,
   "id": "bd3acf67",
   "metadata": {
    "execution": {
     "iopub.execute_input": "2023-05-16T01:52:24.165562Z",
     "iopub.status.busy": "2023-05-16T01:52:24.164304Z",
     "iopub.status.idle": "2023-05-16T01:52:24.179240Z",
     "shell.execute_reply": "2023-05-16T01:52:24.177990Z"
    },
    "papermill": {
     "duration": 0.032141,
     "end_time": "2023-05-16T01:52:24.182055",
     "exception": false,
     "start_time": "2023-05-16T01:52:24.149914",
     "status": "completed"
    },
    "tags": []
   },
   "outputs": [],
   "source": [
    "import pandas as pd\n",
    "import numpy as np"
   ]
  },
  {
   "cell_type": "markdown",
   "id": "752e8799",
   "metadata": {
    "papermill": {
     "duration": 0.012655,
     "end_time": "2023-05-16T01:52:24.208022",
     "exception": false,
     "start_time": "2023-05-16T01:52:24.195367",
     "status": "completed"
    },
    "tags": []
   },
   "source": [
    "## Libraries for Image "
   ]
  },
  {
   "cell_type": "code",
   "execution_count": 2,
   "id": "8ef4c1cb",
   "metadata": {},
   "outputs": [],
   "source": [
    "import matplotlib.pyplot as plt"
   ]
  },
  {
   "cell_type": "code",
   "execution_count": 3,
   "id": "407f6e41",
   "metadata": {
    "execution": {
     "iopub.execute_input": "2023-05-16T01:52:24.236227Z",
     "iopub.status.busy": "2023-05-16T01:52:24.235840Z",
     "iopub.status.idle": "2023-05-16T01:52:24.448991Z",
     "shell.execute_reply": "2023-05-16T01:52:24.447696Z"
    },
    "papermill": {
     "duration": 0.230516,
     "end_time": "2023-05-16T01:52:24.451889",
     "exception": false,
     "start_time": "2023-05-16T01:52:24.221373",
     "status": "completed"
    },
    "tags": []
   },
   "outputs": [],
   "source": [
    "import cv2\n",
    "import PIL"
   ]
  },
  {
   "cell_type": "code",
   "execution_count": 4,
   "id": "e969c10c",
   "metadata": {},
   "outputs": [],
   "source": [
    "from PIL import Image"
   ]
  },
  {
   "cell_type": "code",
   "execution_count": 5,
   "id": "86d5b895",
   "metadata": {
    "execution": {
     "iopub.execute_input": "2023-05-16T01:52:24.479985Z",
     "iopub.status.busy": "2023-05-16T01:52:24.479575Z",
     "iopub.status.idle": "2023-05-16T01:52:24.517122Z",
     "shell.execute_reply": "2023-05-16T01:52:24.516016Z"
    },
    "papermill": {
     "duration": 0.055184,
     "end_time": "2023-05-16T01:52:24.520043",
     "exception": false,
     "start_time": "2023-05-16T01:52:24.464859",
     "status": "completed"
    },
    "tags": []
   },
   "outputs": [
    {
     "data": {
      "image/png": "[encoded data removed]",
      "text/plain": [
       "<PIL.JpegImagePlugin.JpegImageFile image mode=RGB size=32x32>"
      ]
     },
     "execution_count": 5,
     "metadata": {},
     "output_type": "execute_result"
    }
   ],
   "source": [
    "PIL.Image.open('real-and-ai/train/FAKE/5999.jpg')\n"
   ]
  },
  {
   "cell_type": "code",
   "execution_count": 6,
   "id": "b1d3f067",
   "metadata": {
    "execution": {
     "iopub.execute_input": "2023-05-16T01:52:24.548886Z",
     "iopub.status.busy": "2023-05-16T01:52:24.547762Z",
     "iopub.status.idle": "2023-05-16T01:52:24.573754Z",
     "shell.execute_reply": "2023-05-16T01:52:24.572549Z"
    },
    "papermill": {
     "duration": 0.043009,
     "end_time": "2023-05-16T01:52:24.576221",
     "exception": false,
     "start_time": "2023-05-16T01:52:24.533212",
     "status": "completed"
    },
    "tags": []
   },
   "outputs": [
    {
     "data": {
      "text/plain": [
       "(32, 32, 3)"
      ]
     },
     "execution_count": 6,
     "metadata": {},
     "output_type": "execute_result"
    }
   ],
   "source": [
    "image = cv2.imread('real-and-ai/train/FAKE/5999.jpg')\n",
    "image.shape"
   ]
  },
  {
   "cell_type": "markdown",
   "id": "6a87a9c2",
   "metadata": {
    "papermill": {
     "duration": 0.012959,
     "end_time": "2023-05-16T01:52:24.602245",
     "exception": false,
     "start_time": "2023-05-16T01:52:24.589286",
     "status": "completed"
    },
    "tags": []
   },
   "source": [
    "## **TRAIN DATAFRAME**"
   ]
  },
  {
   "cell_type": "markdown",
   "id": "b978e994",
   "metadata": {
    "papermill": {
     "duration": 0.012777,
     "end_time": "2023-05-16T01:52:24.628027",
     "exception": false,
     "start_time": "2023-05-16T01:52:24.615250",
     "status": "completed"
    },
    "tags": []
   },
   "source": [
    "## Creating Training Dataframe for **\"Fake Image\"**"
   ]
  },
  {
   "cell_type": "code",
   "execution_count": 7,
   "id": "8f13fac3",
   "metadata": {
    "execution": {
     "iopub.execute_input": "2023-05-16T01:52:24.657259Z",
     "iopub.status.busy": "2023-05-16T01:52:24.656852Z",
     "iopub.status.idle": "2023-05-16T01:52:24.715970Z",
     "shell.execute_reply": "2023-05-16T01:52:24.715066Z"
    },
    "papermill": {
     "duration": 0.077316,
     "end_time": "2023-05-16T01:52:24.718371",
     "exception": false,
     "start_time": "2023-05-16T01:52:24.641055",
     "status": "completed"
    },
    "tags": []
   },
   "outputs": [
    {
     "data": {
      "text/plain": [
       "50000"
      ]
     },
     "execution_count": 7,
     "metadata": {},
     "output_type": "execute_result"
    }
   ],
   "source": [
    "train_path_fake =[]\n",
    "\n",
    "base_1 = 'real-and-ai/train/FAKE/'\n",
    "\n",
    "for i in range(1000,6000):\n",
    "    a = '{}{}.jpg'.format(base_1, i)\n",
    "    train_path_fake.append(a)\n",
    "\n",
    "for i in range(1000,6000):\n",
    "    for j in range(2,11):\n",
    "        b = '{}{} ({}).jpg'.format(base_1, i, j)\n",
    "        train_path_fake.append(b)\n",
    "len(train_path_fake)\n"
   ]
  },
  {
   "cell_type": "code",
   "execution_count": 8,
   "id": "cb02cec6",
   "metadata": {
    "execution": {
     "iopub.execute_input": "2023-05-16T01:52:24.747170Z",
     "iopub.status.busy": "2023-05-16T01:52:24.746737Z",
     "iopub.status.idle": "2023-05-16T01:52:24.795930Z",
     "shell.execute_reply": "2023-05-16T01:52:24.794778Z"
    },
    "papermill": {
     "duration": 0.066603,
     "end_time": "2023-05-16T01:52:24.798514",
     "exception": false,
     "start_time": "2023-05-16T01:52:24.731911",
     "status": "completed"
    },
    "tags": []
   },
   "outputs": [
    {
     "data": {
      "text/html": [
       "<div>\n",
       "<style scoped>\n",
       "    .dataframe tbody tr th:only-of-type {\n",
       "        vertical-align: middle;\n",
       "    }\n",
       "\n",
       "    .dataframe tbody tr th {\n",
       "        vertical-align: top;\n",
       "    }\n",
       "\n",
       "    .dataframe thead th {\n",
       "        text-align: right;\n",
       "    }\n",
       "</style>\n",
       "<table border=\"1\" class=\"dataframe\">\n",
       "  <thead>\n",
       "    <tr style=\"text-align: right;\">\n",
       "      <th></th>\n",
       "      <th>path</th>\n",
       "      <th>label</th>\n",
       "    </tr>\n",
       "  </thead>\n",
       "  <tbody>\n",
       "    <tr>\n",
       "      <th>0</th>\n",
       "      <td>real-and-ai/train/FAKE/1000.jpg</td>\n",
       "      <td>0</td>\n",
       "    </tr>\n",
       "    <tr>\n",
       "      <th>1</th>\n",
       "      <td>real-and-ai/train/FAKE/1001.jpg</td>\n",
       "      <td>0</td>\n",
       "    </tr>\n",
       "    <tr>\n",
       "      <th>2</th>\n",
       "      <td>real-and-ai/train/FAKE/1002.jpg</td>\n",
       "      <td>0</td>\n",
       "    </tr>\n",
       "    <tr>\n",
       "      <th>3</th>\n",
       "      <td>real-and-ai/train/FAKE/1003.jpg</td>\n",
       "      <td>0</td>\n",
       "    </tr>\n",
       "    <tr>\n",
       "      <th>4</th>\n",
       "      <td>real-and-ai/train/FAKE/1004.jpg</td>\n",
       "      <td>0</td>\n",
       "    </tr>\n",
       "  </tbody>\n",
       "</table>\n",
       "</div>"
      ],
      "text/plain": [
       "                              path  label\n",
       "0  real-and-ai/train/FAKE/1000.jpg      0\n",
       "1  real-and-ai/train/FAKE/1001.jpg      0\n",
       "2  real-and-ai/train/FAKE/1002.jpg      0\n",
       "3  real-and-ai/train/FAKE/1003.jpg      0\n",
       "4  real-and-ai/train/FAKE/1004.jpg      0"
      ]
     },
     "execution_count": 8,
     "metadata": {},
     "output_type": "execute_result"
    }
   ],
   "source": [
    "df_train_fake = pd.DataFrame(train_path_fake)\n",
    "df_train_fake.columns = ['path']\n",
    "df_train_fake['label'] = 0\n",
    "df_train_fake.head()"
   ]
  },
  {
   "cell_type": "markdown",
   "id": "6a8d89b6",
   "metadata": {
    "papermill": {
     "duration": 0.013266,
     "end_time": "2023-05-16T01:52:24.825676",
     "exception": false,
     "start_time": "2023-05-16T01:52:24.812410",
     "status": "completed"
    },
    "tags": []
   },
   "source": [
    "## Creating Training Dataframe for **\"Real Image\"**"
   ]
  },
  {
   "cell_type": "code",
   "execution_count": 9,
   "id": "2e7ecdf8",
   "metadata": {
    "execution": {
     "iopub.execute_input": "2023-05-16T01:52:24.855415Z",
     "iopub.status.busy": "2023-05-16T01:52:24.855000Z",
     "iopub.status.idle": "2023-05-16T01:52:24.863947Z",
     "shell.execute_reply": "2023-05-16T01:52:24.863018Z"
    },
    "papermill": {
     "duration": 0.026904,
     "end_time": "2023-05-16T01:52:24.866413",
     "exception": false,
     "start_time": "2023-05-16T01:52:24.839509",
     "status": "completed"
    },
    "tags": []
   },
   "outputs": [
    {
     "data": {
      "text/plain": [
       "100"
      ]
     },
     "execution_count": 9,
     "metadata": {},
     "output_type": "execute_result"
    }
   ],
   "source": [
    "train_path_real=[]\n",
    "\n",
    "base_2 = 'real-and-ai/train/REAL/'\n",
    "\n",
    "for i in range(0,10):\n",
    "    c = '{}000{}.jpg'.format(base_2, i)\n",
    "    train_path_real.append(c)\n",
    "\n",
    "for i in range(0,10):\n",
    "    for j in range(2,11):\n",
    "        d = '{}000{} ({}).jpg'.format(base_2, i,j)\n",
    "        train_path_real.append(d)\n",
    "len(train_path_real)"
   ]
  },
  {
   "cell_type": "code",
   "execution_count": 10,
   "id": "85638cea",
   "metadata": {
    "execution": {
     "iopub.execute_input": "2023-05-16T01:52:24.895569Z",
     "iopub.status.busy": "2023-05-16T01:52:24.895197Z",
     "iopub.status.idle": "2023-05-16T01:52:24.905064Z",
     "shell.execute_reply": "2023-05-16T01:52:24.903920Z"
    },
    "papermill": {
     "duration": 0.027255,
     "end_time": "2023-05-16T01:52:24.907278",
     "exception": false,
     "start_time": "2023-05-16T01:52:24.880023",
     "status": "completed"
    },
    "tags": []
   },
   "outputs": [
    {
     "data": {
      "text/plain": [
       "1000"
      ]
     },
     "execution_count": 10,
     "metadata": {},
     "output_type": "execute_result"
    }
   ],
   "source": [
    "for i in range(10,100):\n",
    "    e = '{}00{}.jpg'.format(base_2, i)\n",
    "    train_path_real.append(e)\n",
    "\n",
    "\n",
    "for i in range(10,100):\n",
    "    for j in range(2,11):\n",
    "        f = '{}00{} ({}).jpg'.format(base_2, i,j)\n",
    "        train_path_real.append(f)\n",
    "len(train_path_real)"
   ]
  },
  {
   "cell_type": "code",
   "execution_count": 11,
   "id": "fb56bf8b",
   "metadata": {
    "execution": {
     "iopub.execute_input": "2023-05-16T01:52:24.936887Z",
     "iopub.status.busy": "2023-05-16T01:52:24.936429Z",
     "iopub.status.idle": "2023-05-16T01:52:24.954845Z",
     "shell.execute_reply": "2023-05-16T01:52:24.953738Z"
    },
    "papermill": {
     "duration": 0.036205,
     "end_time": "2023-05-16T01:52:24.957281",
     "exception": false,
     "start_time": "2023-05-16T01:52:24.921076",
     "status": "completed"
    },
    "tags": []
   },
   "outputs": [
    {
     "data": {
      "text/plain": [
       "10000"
      ]
     },
     "execution_count": 11,
     "metadata": {},
     "output_type": "execute_result"
    }
   ],
   "source": [
    "for i in range(100,1000):\n",
    "    g = '{}0{}.jpg'.format(base_2, i)\n",
    "    train_path_real.append(g)\n",
    "\n",
    "for i in range(100,1000):\n",
    "    for j in range(2,11):\n",
    "        h = '{}0{} ({}).jpg'.format(base_2, i,j)\n",
    "        train_path_real.append(h)\n",
    "len(train_path_real)"
   ]
  },
  {
   "cell_type": "code",
   "execution_count": 12,
   "id": "08bca58c",
   "metadata": {
    "execution": {
     "iopub.execute_input": "2023-05-16T01:52:24.987301Z",
     "iopub.status.busy": "2023-05-16T01:52:24.986887Z",
     "iopub.status.idle": "2023-05-16T01:52:25.035372Z",
     "shell.execute_reply": "2023-05-16T01:52:25.034066Z"
    },
    "papermill": {
     "duration": 0.066719,
     "end_time": "2023-05-16T01:52:25.038120",
     "exception": false,
     "start_time": "2023-05-16T01:52:24.971401",
     "status": "completed"
    },
    "tags": []
   },
   "outputs": [
    {
     "data": {
      "text/plain": [
       "50000"
      ]
     },
     "execution_count": 12,
     "metadata": {},
     "output_type": "execute_result"
    }
   ],
   "source": [
    "\n",
    "for i in range(1000,5000):\n",
    "    k = '{}{}.jpg'.format(base_2, i)\n",
    "    train_path_real.append(k)\n",
    "\n",
    "for i in range(1000,5000):\n",
    "    for j in range(2,11):\n",
    "        l = '{}{} ({}).jpg'.format(base_2, i,j)\n",
    "        train_path_real.append(l)\n",
    "len(train_path_real)\n"
   ]
  },
  {
   "cell_type": "code",
   "execution_count": 13,
   "id": "e508cf15",
   "metadata": {
    "execution": {
     "iopub.execute_input": "2023-05-16T01:52:25.068212Z",
     "iopub.status.busy": "2023-05-16T01:52:25.067454Z",
     "iopub.status.idle": "2023-05-16T01:52:25.083647Z",
     "shell.execute_reply": "2023-05-16T01:52:25.082499Z"
    },
    "papermill": {
     "duration": 0.033659,
     "end_time": "2023-05-16T01:52:25.085875",
     "exception": false,
     "start_time": "2023-05-16T01:52:25.052216",
     "status": "completed"
    },
    "tags": []
   },
   "outputs": [
    {
     "data": {
      "text/html": [
       "<div>\n",
       "<style scoped>\n",
       "    .dataframe tbody tr th:only-of-type {\n",
       "        vertical-align: middle;\n",
       "    }\n",
       "\n",
       "    .dataframe tbody tr th {\n",
       "        vertical-align: top;\n",
       "    }\n",
       "\n",
       "    .dataframe thead th {\n",
       "        text-align: right;\n",
       "    }\n",
       "</style>\n",
       "<table border=\"1\" class=\"dataframe\">\n",
       "  <thead>\n",
       "    <tr style=\"text-align: right;\">\n",
       "      <th></th>\n",
       "      <th>path</th>\n",
       "      <th>label</th>\n",
       "    </tr>\n",
       "  </thead>\n",
       "  <tbody>\n",
       "    <tr>\n",
       "      <th>0</th>\n",
       "      <td>real-and-ai/train/REAL/0000.jpg</td>\n",
       "      <td>1</td>\n",
       "    </tr>\n",
       "    <tr>\n",
       "      <th>1</th>\n",
       "      <td>real-and-ai/train/REAL/0001.jpg</td>\n",
       "      <td>1</td>\n",
       "    </tr>\n",
       "    <tr>\n",
       "      <th>2</th>\n",
       "      <td>real-and-ai/train/REAL/0002.jpg</td>\n",
       "      <td>1</td>\n",
       "    </tr>\n",
       "    <tr>\n",
       "      <th>3</th>\n",
       "      <td>real-and-ai/train/REAL/0003.jpg</td>\n",
       "      <td>1</td>\n",
       "    </tr>\n",
       "    <tr>\n",
       "      <th>4</th>\n",
       "      <td>real-and-ai/train/REAL/0004.jpg</td>\n",
       "      <td>1</td>\n",
       "    </tr>\n",
       "  </tbody>\n",
       "</table>\n",
       "</div>"
      ],
      "text/plain": [
       "                              path  label\n",
       "0  real-and-ai/train/REAL/0000.jpg      1\n",
       "1  real-and-ai/train/REAL/0001.jpg      1\n",
       "2  real-and-ai/train/REAL/0002.jpg      1\n",
       "3  real-and-ai/train/REAL/0003.jpg      1\n",
       "4  real-and-ai/train/REAL/0004.jpg      1"
      ]
     },
     "execution_count": 13,
     "metadata": {},
     "output_type": "execute_result"
    }
   ],
   "source": [
    "df_train_real = pd.DataFrame(train_path_real)\n",
    "df_train_real.columns = ['path']\n",
    "df_train_real['label'] = 1\n",
    "df_train_real.head()"
   ]
  },
  {
   "cell_type": "markdown",
   "id": "43891fd4",
   "metadata": {
    "papermill": {
     "duration": 0.014079,
     "end_time": "2023-05-16T01:52:25.114408",
     "exception": false,
     "start_time": "2023-05-16T01:52:25.100329",
     "status": "completed"
    },
    "tags": []
   },
   "source": [
    "## Using **\"concat\"** to create  **\"df_train\"**"
   ]
  },
  {
   "cell_type": "code",
   "execution_count": 14,
   "id": "7a87a3a0",
   "metadata": {
    "execution": {
     "iopub.execute_input": "2023-05-16T01:52:25.144899Z",
     "iopub.status.busy": "2023-05-16T01:52:25.144470Z",
     "iopub.status.idle": "2023-05-16T01:52:25.169985Z",
     "shell.execute_reply": "2023-05-16T01:52:25.168738Z"
    },
    "papermill": {
     "duration": 0.043494,
     "end_time": "2023-05-16T01:52:25.172283",
     "exception": false,
     "start_time": "2023-05-16T01:52:25.128789",
     "status": "completed"
    },
    "tags": []
   },
   "outputs": [
    {
     "name": "stdout",
     "output_type": "stream",
     "text": [
      "(100000, 2)\n"
     ]
    },
    {
     "data": {
      "text/html": [
       "<div>\n",
       "<style scoped>\n",
       "    .dataframe tbody tr th:only-of-type {\n",
       "        vertical-align: middle;\n",
       "    }\n",
       "\n",
       "    .dataframe tbody tr th {\n",
       "        vertical-align: top;\n",
       "    }\n",
       "\n",
       "    .dataframe thead th {\n",
       "        text-align: right;\n",
       "    }\n",
       "</style>\n",
       "<table border=\"1\" class=\"dataframe\">\n",
       "  <thead>\n",
       "    <tr style=\"text-align: right;\">\n",
       "      <th></th>\n",
       "      <th>path</th>\n",
       "      <th>label</th>\n",
       "    </tr>\n",
       "  </thead>\n",
       "  <tbody>\n",
       "    <tr>\n",
       "      <th>49222</th>\n",
       "      <td>real-and-ai/train/REAL/4913 (7).jpg</td>\n",
       "      <td>1</td>\n",
       "    </tr>\n",
       "    <tr>\n",
       "      <th>16353</th>\n",
       "      <td>real-and-ai/train/FAKE/2261 (6).jpg</td>\n",
       "      <td>0</td>\n",
       "    </tr>\n",
       "    <tr>\n",
       "      <th>33286</th>\n",
       "      <td>real-and-ai/train/FAKE/4142 (10).jpg</td>\n",
       "      <td>0</td>\n",
       "    </tr>\n",
       "    <tr>\n",
       "      <th>42840</th>\n",
       "      <td>real-and-ai/train/REAL/4204 (6).jpg</td>\n",
       "      <td>1</td>\n",
       "    </tr>\n",
       "    <tr>\n",
       "      <th>42901</th>\n",
       "      <td>real-and-ai/train/REAL/4211 (4).jpg</td>\n",
       "      <td>1</td>\n",
       "    </tr>\n",
       "  </tbody>\n",
       "</table>\n",
       "</div>"
      ],
      "text/plain": [
       "                                       path  label\n",
       "49222   real-and-ai/train/REAL/4913 (7).jpg      1\n",
       "16353   real-and-ai/train/FAKE/2261 (6).jpg      0\n",
       "33286  real-and-ai/train/FAKE/4142 (10).jpg      0\n",
       "42840   real-and-ai/train/REAL/4204 (6).jpg      1\n",
       "42901   real-and-ai/train/REAL/4211 (4).jpg      1"
      ]
     },
     "execution_count": 14,
     "metadata": {},
     "output_type": "execute_result"
    }
   ],
   "source": [
    "df_train = pd.concat((df_train_fake, df_train_real), axis = 0 )\n",
    "print(df_train.shape)\n",
    "df_train.sample(5)\n"
   ]
  },
  {
   "cell_type": "markdown",
   "id": "b587771f",
   "metadata": {
    "papermill": {
     "duration": 0.014864,
     "end_time": "2023-05-16T01:52:25.201771",
     "exception": false,
     "start_time": "2023-05-16T01:52:25.186907",
     "status": "completed"
    },
    "tags": []
   },
   "source": [
    "## Using **'cv2'** for X_train "
   ]
  },
  {
   "cell_type": "code",
   "execution_count": 15,
   "id": "33ae568b",
   "metadata": {
    "execution": {
     "iopub.execute_input": "2023-05-16T01:52:25.233474Z",
     "iopub.status.busy": "2023-05-16T01:52:25.233023Z",
     "iopub.status.idle": "2023-05-16T02:05:24.967917Z",
     "shell.execute_reply": "2023-05-16T02:05:24.966622Z"
    },
    "papermill": {
     "duration": 779.768817,
     "end_time": "2023-05-16T02:05:24.985373",
     "exception": false,
     "start_time": "2023-05-16T01:52:25.216556",
     "status": "completed"
    },
    "tags": []
   },
   "outputs": [
    {
     "data": {
      "text/plain": [
       "4"
      ]
     },
     "execution_count": 15,
     "metadata": {},
     "output_type": "execute_result"
    }
   ],
   "source": [
    "image_df = []\n",
    "for image in df_train['path']:\n",
    "    img = cv2.imread(image)\n",
    "    resized = cv2.resize(img,(32,32))\n",
    "    image_df.append(resized)\n",
    "image_array = np.array(image_df)\n",
    "X_train = image_array/255\n",
    "X_train.ndim"
   ]
  },
  {
   "cell_type": "code",
   "execution_count": 16,
   "id": "f5d37c98",
   "metadata": {
    "execution": {
     "iopub.execute_input": "2023-05-16T02:05:25.016505Z",
     "iopub.status.busy": "2023-05-16T02:05:25.016115Z",
     "iopub.status.idle": "2023-05-16T02:05:25.024259Z",
     "shell.execute_reply": "2023-05-16T02:05:25.023178Z"
    },
    "papermill": {
     "duration": 0.026986,
     "end_time": "2023-05-16T02:05:25.027013",
     "exception": false,
     "start_time": "2023-05-16T02:05:25.000027",
     "status": "completed"
    },
    "tags": []
   },
   "outputs": [
    {
     "data": {
      "text/plain": [
       "0    0\n",
       "1    0\n",
       "2    0\n",
       "3    0\n",
       "4    0\n",
       "Name: label, dtype: int64"
      ]
     },
     "execution_count": 16,
     "metadata": {},
     "output_type": "execute_result"
    }
   ],
   "source": [
    "y_train = df_train['label']\n",
    "y_train.head()"
   ]
  },
  {
   "cell_type": "markdown",
   "id": "c0607ab1",
   "metadata": {
    "papermill": {
     "duration": 0.014569,
     "end_time": "2023-05-16T02:05:25.057037",
     "exception": false,
     "start_time": "2023-05-16T02:05:25.042468",
     "status": "completed"
    },
    "tags": []
   },
   "source": [
    "## **TEST DATAFRAME**"
   ]
  },
  {
   "cell_type": "markdown",
   "id": "8dc0b134",
   "metadata": {
    "papermill": {
     "duration": 0.014459,
     "end_time": "2023-05-16T02:05:25.086367",
     "exception": false,
     "start_time": "2023-05-16T02:05:25.071908",
     "status": "completed"
    },
    "tags": []
   },
   "source": [
    "## Creating Testing Dataframe for **\"Fake Image\"**"
   ]
  },
  {
   "cell_type": "code",
   "execution_count": 17,
   "id": "22776197",
   "metadata": {
    "execution": {
     "iopub.execute_input": "2023-05-16T02:05:25.118933Z",
     "iopub.status.busy": "2023-05-16T02:05:25.118189Z",
     "iopub.status.idle": "2023-05-16T02:05:25.140696Z",
     "shell.execute_reply": "2023-05-16T02:05:25.139506Z"
    },
    "papermill": {
     "duration": 0.041698,
     "end_time": "2023-05-16T02:05:25.143414",
     "exception": false,
     "start_time": "2023-05-16T02:05:25.101716",
     "status": "completed"
    },
    "tags": []
   },
   "outputs": [
    {
     "data": {
      "text/plain": [
       "10000"
      ]
     },
     "execution_count": 17,
     "metadata": {},
     "output_type": "execute_result"
    }
   ],
   "source": [
    "test_path_fake =[]\n",
    "\n",
    "base_3 = 'real-and-ai/test/FAKE/'\n",
    "\n",
    "for i in range(0,1000):\n",
    "    m = '{}{}.jpg'.format(base_3, i)\n",
    "    test_path_fake.append(m)\n",
    "    \n",
    "for i in range(0,1000):\n",
    "    for j in range(2,11):\n",
    "        n = '{}{} ({}).jpg'.format(base_3, i, j)\n",
    "        test_path_fake.append(n)\n",
    "len(test_path_fake)\n"
   ]
  },
  {
   "cell_type": "code",
   "execution_count": 18,
   "id": "7bcd74f0",
   "metadata": {
    "execution": {
     "iopub.execute_input": "2023-05-16T02:05:25.175143Z",
     "iopub.status.busy": "2023-05-16T02:05:25.174727Z",
     "iopub.status.idle": "2023-05-16T02:05:25.188360Z",
     "shell.execute_reply": "2023-05-16T02:05:25.187307Z"
    },
    "papermill": {
     "duration": 0.032367,
     "end_time": "2023-05-16T02:05:25.190820",
     "exception": false,
     "start_time": "2023-05-16T02:05:25.158453",
     "status": "completed"
    },
    "tags": []
   },
   "outputs": [
    {
     "data": {
      "text/html": [
       "<div>\n",
       "<style scoped>\n",
       "    .dataframe tbody tr th:only-of-type {\n",
       "        vertical-align: middle;\n",
       "    }\n",
       "\n",
       "    .dataframe tbody tr th {\n",
       "        vertical-align: top;\n",
       "    }\n",
       "\n",
       "    .dataframe thead th {\n",
       "        text-align: right;\n",
       "    }\n",
       "</style>\n",
       "<table border=\"1\" class=\"dataframe\">\n",
       "  <thead>\n",
       "    <tr style=\"text-align: right;\">\n",
       "      <th></th>\n",
       "      <th>path</th>\n",
       "      <th>label</th>\n",
       "    </tr>\n",
       "  </thead>\n",
       "  <tbody>\n",
       "    <tr>\n",
       "      <th>0</th>\n",
       "      <td>real-and-ai/test/FAKE/0.jpg</td>\n",
       "      <td>0</td>\n",
       "    </tr>\n",
       "    <tr>\n",
       "      <th>1</th>\n",
       "      <td>real-and-ai/test/FAKE/1.jpg</td>\n",
       "      <td>0</td>\n",
       "    </tr>\n",
       "    <tr>\n",
       "      <th>2</th>\n",
       "      <td>real-and-ai/test/FAKE/2.jpg</td>\n",
       "      <td>0</td>\n",
       "    </tr>\n",
       "    <tr>\n",
       "      <th>3</th>\n",
       "      <td>real-and-ai/test/FAKE/3.jpg</td>\n",
       "      <td>0</td>\n",
       "    </tr>\n",
       "    <tr>\n",
       "      <th>4</th>\n",
       "      <td>real-and-ai/test/FAKE/4.jpg</td>\n",
       "      <td>0</td>\n",
       "    </tr>\n",
       "  </tbody>\n",
       "</table>\n",
       "</div>"
      ],
      "text/plain": [
       "                          path  label\n",
       "0  real-and-ai/test/FAKE/0.jpg      0\n",
       "1  real-and-ai/test/FAKE/1.jpg      0\n",
       "2  real-and-ai/test/FAKE/2.jpg      0\n",
       "3  real-and-ai/test/FAKE/3.jpg      0\n",
       "4  real-and-ai/test/FAKE/4.jpg      0"
      ]
     },
     "execution_count": 18,
     "metadata": {},
     "output_type": "execute_result"
    }
   ],
   "source": [
    "df_test_fake = pd.DataFrame(test_path_fake)\n",
    "df_test_fake.columns = ['path']\n",
    "df_test_fake['label'] = 0\n",
    "df_test_fake.head()"
   ]
  },
  {
   "cell_type": "markdown",
   "id": "f1bb5cff",
   "metadata": {
    "papermill": {
     "duration": 0.015363,
     "end_time": "2023-05-16T02:05:25.221944",
     "exception": false,
     "start_time": "2023-05-16T02:05:25.206581",
     "status": "completed"
    },
    "tags": []
   },
   "source": [
    "## Creating Testing Dataframe for **\"Real Image\"**"
   ]
  },
  {
   "cell_type": "code",
   "execution_count": 19,
   "id": "82382dc6",
   "metadata": {
    "execution": {
     "iopub.execute_input": "2023-05-16T02:05:25.254131Z",
     "iopub.status.busy": "2023-05-16T02:05:25.253701Z",
     "iopub.status.idle": "2023-05-16T02:05:25.263253Z",
     "shell.execute_reply": "2023-05-16T02:05:25.262210Z"
    },
    "papermill": {
     "duration": 0.028521,
     "end_time": "2023-05-16T02:05:25.265710",
     "exception": false,
     "start_time": "2023-05-16T02:05:25.237189",
     "status": "completed"
    },
    "tags": []
   },
   "outputs": [
    {
     "data": {
      "text/plain": [
       "100"
      ]
     },
     "execution_count": 19,
     "metadata": {},
     "output_type": "execute_result"
    }
   ],
   "source": [
    "test_path_real =[]\n",
    "\n",
    "base_4 = 'real-and-ai/test/REAL/'\n",
    "\n",
    "for i in range(0,10):\n",
    "    o = '{}000{}.jpg'.format(base_4, i)\n",
    "    test_path_real.append(o)\n",
    "\n",
    "for i in range(0,10):\n",
    "    for j in range(2,11):\n",
    "        p = '{}000{} ({}).jpg'.format(base_4, i,j)\n",
    "        test_path_real.append(p)\n",
    "len(test_path_real)\n"
   ]
  },
  {
   "cell_type": "code",
   "execution_count": 20,
   "id": "68e30484",
   "metadata": {
    "execution": {
     "iopub.execute_input": "2023-05-16T02:05:25.298306Z",
     "iopub.status.busy": "2023-05-16T02:05:25.297872Z",
     "iopub.status.idle": "2023-05-16T02:05:25.308297Z",
     "shell.execute_reply": "2023-05-16T02:05:25.307080Z"
    },
    "papermill": {
     "duration": 0.029756,
     "end_time": "2023-05-16T02:05:25.310868",
     "exception": false,
     "start_time": "2023-05-16T02:05:25.281112",
     "status": "completed"
    },
    "tags": []
   },
   "outputs": [
    {
     "data": {
      "text/plain": [
       "1000"
      ]
     },
     "execution_count": 20,
     "metadata": {},
     "output_type": "execute_result"
    }
   ],
   "source": [
    "for i in range(10,100):\n",
    "    q = '{}00{}.jpg'.format(base_4, i)\n",
    "    test_path_real.append(q)\n",
    "\n",
    "for i in range(10,100):\n",
    "    for j in range(2,11):\n",
    "        r = '{}00{} ({}).jpg'.format(base_4, i,j)\n",
    "        test_path_real.append(r)\n",
    "len(test_path_real) \n"
   ]
  },
  {
   "cell_type": "code",
   "execution_count": 21,
   "id": "4ff7106a",
   "metadata": {
    "execution": {
     "iopub.execute_input": "2023-05-16T02:05:25.343520Z",
     "iopub.status.busy": "2023-05-16T02:05:25.343110Z",
     "iopub.status.idle": "2023-05-16T02:05:25.363235Z",
     "shell.execute_reply": "2023-05-16T02:05:25.362334Z"
    },
    "papermill": {
     "duration": 0.039055,
     "end_time": "2023-05-16T02:05:25.365389",
     "exception": false,
     "start_time": "2023-05-16T02:05:25.326334",
     "status": "completed"
    },
    "tags": []
   },
   "outputs": [
    {
     "data": {
      "text/plain": [
       "10000"
      ]
     },
     "execution_count": 21,
     "metadata": {},
     "output_type": "execute_result"
    }
   ],
   "source": [
    "for i in range(100,1000):\n",
    "    s = '{}0{}.jpg'.format(base_4, i)\n",
    "    test_path_real.append(s)\n",
    "    \n",
    "for i in range(100,1000):\n",
    "    for j in range(2,11):\n",
    "        t = '{}0{} ({}).jpg'.format(base_4, i,j)\n",
    "        test_path_real.append(t)\n",
    "len(test_path_real)"
   ]
  },
  {
   "cell_type": "code",
   "execution_count": 22,
   "id": "69884b25",
   "metadata": {
    "execution": {
     "iopub.execute_input": "2023-05-16T02:05:25.398357Z",
     "iopub.status.busy": "2023-05-16T02:05:25.397951Z",
     "iopub.status.idle": "2023-05-16T02:05:25.411404Z",
     "shell.execute_reply": "2023-05-16T02:05:25.410251Z"
    },
    "papermill": {
     "duration": 0.032679,
     "end_time": "2023-05-16T02:05:25.413707",
     "exception": false,
     "start_time": "2023-05-16T02:05:25.381028",
     "status": "completed"
    },
    "tags": []
   },
   "outputs": [
    {
     "data": {
      "text/html": [
       "<div>\n",
       "<style scoped>\n",
       "    .dataframe tbody tr th:only-of-type {\n",
       "        vertical-align: middle;\n",
       "    }\n",
       "\n",
       "    .dataframe tbody tr th {\n",
       "        vertical-align: top;\n",
       "    }\n",
       "\n",
       "    .dataframe thead th {\n",
       "        text-align: right;\n",
       "    }\n",
       "</style>\n",
       "<table border=\"1\" class=\"dataframe\">\n",
       "  <thead>\n",
       "    <tr style=\"text-align: right;\">\n",
       "      <th></th>\n",
       "      <th>path</th>\n",
       "      <th>label</th>\n",
       "    </tr>\n",
       "  </thead>\n",
       "  <tbody>\n",
       "    <tr>\n",
       "      <th>0</th>\n",
       "      <td>real-and-ai/test/REAL/0000.jpg</td>\n",
       "      <td>1</td>\n",
       "    </tr>\n",
       "    <tr>\n",
       "      <th>1</th>\n",
       "      <td>real-and-ai/test/REAL/0001.jpg</td>\n",
       "      <td>1</td>\n",
       "    </tr>\n",
       "    <tr>\n",
       "      <th>2</th>\n",
       "      <td>real-and-ai/test/REAL/0002.jpg</td>\n",
       "      <td>1</td>\n",
       "    </tr>\n",
       "    <tr>\n",
       "      <th>3</th>\n",
       "      <td>real-and-ai/test/REAL/0003.jpg</td>\n",
       "      <td>1</td>\n",
       "    </tr>\n",
       "    <tr>\n",
       "      <th>4</th>\n",
       "      <td>real-and-ai/test/REAL/0004.jpg</td>\n",
       "      <td>1</td>\n",
       "    </tr>\n",
       "  </tbody>\n",
       "</table>\n",
       "</div>"
      ],
      "text/plain": [
       "                             path  label\n",
       "0  real-and-ai/test/REAL/0000.jpg      1\n",
       "1  real-and-ai/test/REAL/0001.jpg      1\n",
       "2  real-and-ai/test/REAL/0002.jpg      1\n",
       "3  real-and-ai/test/REAL/0003.jpg      1\n",
       "4  real-and-ai/test/REAL/0004.jpg      1"
      ]
     },
     "execution_count": 22,
     "metadata": {},
     "output_type": "execute_result"
    }
   ],
   "source": [
    "df_test_real = pd.DataFrame(test_path_real)\n",
    "df_test_real.columns = ['path']\n",
    "df_test_real['label'] = 1\n",
    "df_test_real.head()"
   ]
  },
  {
   "cell_type": "markdown",
   "id": "ac513591",
   "metadata": {
    "papermill": {
     "duration": 0.01539,
     "end_time": "2023-05-16T02:05:25.444894",
     "exception": false,
     "start_time": "2023-05-16T02:05:25.429504",
     "status": "completed"
    },
    "tags": []
   },
   "source": [
    "## Using **\"concat\"** to create  **\"df_test\"**"
   ]
  },
  {
   "cell_type": "code",
   "execution_count": 23,
   "id": "2fdc0103",
   "metadata": {
    "execution": {
     "iopub.execute_input": "2023-05-16T02:05:25.478067Z",
     "iopub.status.busy": "2023-05-16T02:05:25.477669Z",
     "iopub.status.idle": "2023-05-16T02:05:25.492235Z",
     "shell.execute_reply": "2023-05-16T02:05:25.491171Z"
    },
    "papermill": {
     "duration": 0.033727,
     "end_time": "2023-05-16T02:05:25.494332",
     "exception": false,
     "start_time": "2023-05-16T02:05:25.460605",
     "status": "completed"
    },
    "tags": []
   },
   "outputs": [
    {
     "name": "stdout",
     "output_type": "stream",
     "text": [
      "(20000, 2)\n"
     ]
    },
    {
     "data": {
      "text/html": [
       "<div>\n",
       "<style scoped>\n",
       "    .dataframe tbody tr th:only-of-type {\n",
       "        vertical-align: middle;\n",
       "    }\n",
       "\n",
       "    .dataframe tbody tr th {\n",
       "        vertical-align: top;\n",
       "    }\n",
       "\n",
       "    .dataframe thead th {\n",
       "        text-align: right;\n",
       "    }\n",
       "</style>\n",
       "<table border=\"1\" class=\"dataframe\">\n",
       "  <thead>\n",
       "    <tr style=\"text-align: right;\">\n",
       "      <th></th>\n",
       "      <th>path</th>\n",
       "      <th>label</th>\n",
       "    </tr>\n",
       "  </thead>\n",
       "  <tbody>\n",
       "    <tr>\n",
       "      <th>9854</th>\n",
       "      <td>real-and-ai/test/REAL/0983 (9).jpg</td>\n",
       "      <td>1</td>\n",
       "    </tr>\n",
       "    <tr>\n",
       "      <th>4777</th>\n",
       "      <td>real-and-ai/test/REAL/0419 (8).jpg</td>\n",
       "      <td>1</td>\n",
       "    </tr>\n",
       "    <tr>\n",
       "      <th>4822</th>\n",
       "      <td>real-and-ai/test/REAL/0424 (8).jpg</td>\n",
       "      <td>1</td>\n",
       "    </tr>\n",
       "    <tr>\n",
       "      <th>7121</th>\n",
       "      <td>real-and-ai/test/REAL/0680 (3).jpg</td>\n",
       "      <td>1</td>\n",
       "    </tr>\n",
       "    <tr>\n",
       "      <th>1802</th>\n",
       "      <td>real-and-ai/test/REAL/0902.jpg</td>\n",
       "      <td>1</td>\n",
       "    </tr>\n",
       "  </tbody>\n",
       "</table>\n",
       "</div>"
      ],
      "text/plain": [
       "                                    path  label\n",
       "9854  real-and-ai/test/REAL/0983 (9).jpg      1\n",
       "4777  real-and-ai/test/REAL/0419 (8).jpg      1\n",
       "4822  real-and-ai/test/REAL/0424 (8).jpg      1\n",
       "7121  real-and-ai/test/REAL/0680 (3).jpg      1\n",
       "1802      real-and-ai/test/REAL/0902.jpg      1"
      ]
     },
     "execution_count": 23,
     "metadata": {},
     "output_type": "execute_result"
    }
   ],
   "source": [
    "df_test = pd.concat((df_test_fake, df_test_real), axis = 0 )\n",
    "print(df_test.shape)\n",
    "df_test.sample(5)\n"
   ]
  },
  {
   "cell_type": "markdown",
   "id": "f7be15e2",
   "metadata": {
    "papermill": {
     "duration": 0.015689,
     "end_time": "2023-05-16T02:05:25.526103",
     "exception": false,
     "start_time": "2023-05-16T02:05:25.510414",
     "status": "completed"
    },
    "tags": []
   },
   "source": [
    "## Using **\"cv2\"** to create X_test"
   ]
  },
  {
   "cell_type": "code",
   "execution_count": 24,
   "id": "df92e04c",
   "metadata": {
    "execution": {
     "iopub.execute_input": "2023-05-16T02:05:25.559938Z",
     "iopub.status.busy": "2023-05-16T02:05:25.559541Z",
     "iopub.status.idle": "2023-05-16T02:08:01.185535Z",
     "shell.execute_reply": "2023-05-16T02:08:01.183048Z"
    },
    "papermill": {
     "duration": 155.6614,
     "end_time": "2023-05-16T02:08:01.203496",
     "exception": false,
     "start_time": "2023-05-16T02:05:25.542096",
     "status": "completed"
    },
    "tags": []
   },
   "outputs": [
    {
     "data": {
      "text/plain": [
       "4"
      ]
     },
     "execution_count": 24,
     "metadata": {},
     "output_type": "execute_result"
    }
   ],
   "source": [
    "image_ds = []\n",
    "for image in df_test['path']:\n",
    "    imge = cv2.imread(image)\n",
    "    resize = cv2.resize(imge,(32,32))\n",
    "    image_ds.append(resize)\n",
    "image_arry = np.array(image_ds)\n",
    "X_test = image_arry/255\n",
    "X_test.ndim"
   ]
  },
  {
   "cell_type": "code",
   "execution_count": 25,
   "id": "dc05e083",
   "metadata": {
    "execution": {
     "iopub.execute_input": "2023-05-16T02:08:01.238645Z",
     "iopub.status.busy": "2023-05-16T02:08:01.238234Z",
     "iopub.status.idle": "2023-05-16T02:08:01.246358Z",
     "shell.execute_reply": "2023-05-16T02:08:01.245176Z"
    },
    "papermill": {
     "duration": 0.028614,
     "end_time": "2023-05-16T02:08:01.248897",
     "exception": false,
     "start_time": "2023-05-16T02:08:01.220283",
     "status": "completed"
    },
    "tags": []
   },
   "outputs": [
    {
     "data": {
      "text/plain": [
       "0    0\n",
       "1    0\n",
       "2    0\n",
       "3    0\n",
       "4    0\n",
       "Name: label, dtype: int64"
      ]
     },
     "execution_count": 25,
     "metadata": {},
     "output_type": "execute_result"
    }
   ],
   "source": [
    "y_test = df_test['label']\n",
    "y_test.head()"
   ]
  },
  {
   "cell_type": "markdown",
   "id": "31d14a46",
   "metadata": {
    "papermill": {
     "duration": 0.017088,
     "end_time": "2023-05-16T02:08:01.283075",
     "exception": false,
     "start_time": "2023-05-16T02:08:01.265987",
     "status": "completed"
    },
    "tags": []
   },
   "source": [
    "## Importing **\"keras\"** for CNN"
   ]
  },
  {
   "cell_type": "code",
   "execution_count": 26,
   "id": "14ec2ce8",
   "metadata": {},
   "outputs": [],
   "source": [
    "import keras\n",
    "import tensorflow as tf"
   ]
  },
  {
   "cell_type": "code",
   "execution_count": 27,
   "id": "5306ca43",
   "metadata": {
    "execution": {
     "iopub.execute_input": "2023-05-16T02:08:01.319286Z",
     "iopub.status.busy": "2023-05-16T02:08:01.318899Z",
     "iopub.status.idle": "2023-05-16T02:18:20.192423Z",
     "shell.execute_reply": "2023-05-16T02:18:20.191546Z"
    },
    "papermill": {
     "duration": 618.894231,
     "end_time": "2023-05-16T02:18:20.194943",
     "exception": false,
     "start_time": "2023-05-16T02:08:01.300712",
     "status": "completed"
    },
    "tags": []
   },
   "outputs": [
    {
     "name": "stdout",
     "output_type": "stream",
     "text": [
      "Epoch 1/5\n",
      "3125/3125 [==============================] - 45s 14ms/step - loss: 0.3690 - accuracy: 0.8339\n",
      "Epoch 2/5\n",
      "3125/3125 [==============================] - 48s 15ms/step - loss: 0.2531 - accuracy: 0.8964\n",
      "Epoch 3/5\n",
      "3125/3125 [==============================] - 48s 15ms/step - loss: 0.2203 - accuracy: 0.9114\n",
      "Epoch 4/5\n",
      "3125/3125 [==============================] - 49s 16ms/step - loss: 0.2020 - accuracy: 0.9197\n",
      "Epoch 5/5\n",
      "3125/3125 [==============================] - 53s 17ms/step - loss: 0.1881 - accuracy: 0.9262\n"
     ]
    },
    {
     "data": {
      "text/plain": [
       "<keras.src.callbacks.History at 0x376428450>"
      ]
     },
     "execution_count": 27,
     "metadata": {},
     "output_type": "execute_result"
    }
   ],
   "source": [
    "from tensorflow.keras import models , layers\n",
    "\n",
    "model = models.Sequential([\n",
    "    layers.Conv2D(filters = 80 , kernel_size = (3,3),activation = 'relu',input_shape= (32,32,3)),\n",
    "    layers.MaxPool2D((2,2)),\n",
    "    layers.Conv2D(filters = 40 , kernel_size = (3,3),activation = 'relu'),\n",
    "    layers.MaxPool2D((2,2)),\n",
    "    layers.Conv2D(filters = 20 , kernel_size = (3,3),activation = 'relu'),\n",
    "    layers.MaxPool2D((2,2)),\n",
    "    \n",
    "    layers.Flatten(),\n",
    "    layers.Dense(10,activation = 'relu'),\n",
    "    layers.Dense(2,activation = 'sigmoid'),\n",
    "                         ])\n",
    "\n",
    "model.compile(\n",
    "    optimizer = 'adam',\n",
    "    loss= 'sparse_categorical_crossentropy',\n",
    "    metrics = ['accuracy']\n",
    "             )\n",
    "\n",
    "model.fit(X_train,y_train, epochs = 5)\n"
   ]
  },
  {
   "cell_type": "code",
   "execution_count": 28,
   "id": "878d8056",
   "metadata": {
    "execution": {
     "iopub.execute_input": "2023-05-16T02:18:21.738827Z",
     "iopub.status.busy": "2023-05-16T02:18:21.738132Z",
     "iopub.status.idle": "2023-05-16T02:18:28.870939Z",
     "shell.execute_reply": "2023-05-16T02:18:28.869951Z"
    },
    "papermill": {
     "duration": 7.944021,
     "end_time": "2023-05-16T02:18:28.873566",
     "exception": false,
     "start_time": "2023-05-16T02:18:20.929545",
     "status": "completed"
    },
    "tags": []
   },
   "outputs": [
    {
     "name": "stdout",
     "output_type": "stream",
     "text": [
      "625/625 [==============================] - 3s 4ms/step - loss: 0.2020 - accuracy: 0.9172\n"
     ]
    },
    {
     "data": {
      "text/plain": [
       "[0.20200391113758087, 0.9172499775886536]"
      ]
     },
     "execution_count": 28,
     "metadata": {},
     "output_type": "execute_result"
    }
   ],
   "source": [
    "model.evaluate(X_test,y_test)"
   ]
  },
  {
   "cell_type": "code",
   "execution_count": 29,
   "id": "11cc7ccc",
   "metadata": {
    "execution": {
     "iopub.execute_input": "2023-05-16T02:18:30.357528Z",
     "iopub.status.busy": "2023-05-16T02:18:30.356831Z",
     "iopub.status.idle": "2023-05-16T02:18:37.597581Z",
     "shell.execute_reply": "2023-05-16T02:18:37.596237Z"
    },
    "papermill": {
     "duration": 7.988,
     "end_time": "2023-05-16T02:18:37.600498",
     "exception": false,
     "start_time": "2023-05-16T02:18:29.612498",
     "status": "completed"
    },
    "tags": []
   },
   "outputs": [
    {
     "name": "stdout",
     "output_type": "stream",
     "text": [
      "625/625 [==============================] - 3s 5ms/step\n"
     ]
    }
   ],
   "source": [
    "y_pred  = model.predict(X_test)"
   ]
  },
  {
   "cell_type": "code",
   "execution_count": 30,
   "id": "e3f5ba82",
   "metadata": {
    "execution": {
     "iopub.execute_input": "2023-05-16T02:18:39.186015Z",
     "iopub.status.busy": "2023-05-16T02:18:39.185324Z",
     "iopub.status.idle": "2023-05-16T02:18:39.276918Z",
     "shell.execute_reply": "2023-05-16T02:18:39.275636Z"
    },
    "papermill": {
     "duration": 0.848316,
     "end_time": "2023-05-16T02:18:39.279666",
     "exception": false,
     "start_time": "2023-05-16T02:18:38.431350",
     "status": "completed"
    },
    "tags": []
   },
   "outputs": [
    {
     "data": {
      "text/plain": [
       "[0, 0, 0, 0, 0]"
      ]
     },
     "execution_count": 30,
     "metadata": {},
     "output_type": "execute_result"
    }
   ],
   "source": [
    "y_pred_label = [np.argmax(i) for i in y_pred]\n",
    "y_pred_label[:5]"
   ]
  },
  {
   "cell_type": "markdown",
   "id": "6b6c3b96",
   "metadata": {
    "papermill": {
     "duration": 0.754485,
     "end_time": "2023-05-16T02:18:40.798518",
     "exception": false,
     "start_time": "2023-05-16T02:18:40.044033",
     "status": "completed"
    },
    "tags": []
   },
   "source": [
    "## Classification Report"
   ]
  },
  {
   "cell_type": "code",
   "execution_count": 31,
   "id": "19e35551",
   "metadata": {
    "execution": {
     "iopub.execute_input": "2023-05-16T02:18:42.388632Z",
     "iopub.status.busy": "2023-05-16T02:18:42.387900Z",
     "iopub.status.idle": "2023-05-16T02:18:43.346602Z",
     "shell.execute_reply": "2023-05-16T02:18:43.345426Z"
    },
    "papermill": {
     "duration": 1.719765,
     "end_time": "2023-05-16T02:18:43.348933",
     "exception": false,
     "start_time": "2023-05-16T02:18:41.629168",
     "status": "completed"
    },
    "tags": []
   },
   "outputs": [
    {
     "name": "stdout",
     "output_type": "stream",
     "text": [
      "Classification Report     : \n",
      "\n",
      "\n",
      "               precision    recall  f1-score   support\n",
      "\n",
      "           0       0.95      0.88      0.91     10000\n",
      "           1       0.89      0.95      0.92     10000\n",
      "\n",
      "    accuracy                           0.92     20000\n",
      "   macro avg       0.92      0.92      0.92     20000\n",
      "weighted avg       0.92      0.92      0.92     20000\n",
      "\n"
     ]
    }
   ],
   "source": [
    "from sklearn.metrics import classification_report\n",
    "\n",
    "print('Classification Report     : \\n\\n\\n' , classification_report(y_test,y_pred_label))"
   ]
  },
  {
   "cell_type": "code",
   "execution_count": 32,
   "id": "58863380",
   "metadata": {},
   "outputs": [
    {
     "data": {
      "image/png": "[encoded data removed]",
      "text/plain": [
       "<Figure size 640x480 with 1 Axes>"
      ]
     },
     "metadata": {},
     "output_type": "display_data"
    },
    {
     "name": "stdout",
     "output_type": "stream",
     "text": [
      "1/1 [==============================] - 0s 79ms/step\n",
      "1/1 [==============================] - 0s 43ms/step\n"
     ]
    },
    {
     "data": {
      "text/plain": [
       "0"
      ]
     },
     "execution_count": 32,
     "metadata": {},
     "output_type": "execute_result"
    }
   ],
   "source": [
    "#check the model on a single image\n",
    "\n",
    "img = cv2.imread('real-and-ai/test/FAKE/0 (2).jpg')\n",
    "plt.imshow(img) \n",
    "plt.show()\n",
    "\n",
    "img = cv2.resize(img,(32,32))\n",
    "img = img/255\n",
    "img.ndim\n",
    "\n",
    "img = np.expand_dims(img,axis = 0)\n",
    "img.ndim\n",
    "\n",
    "model.predict(img)\n",
    "\n",
    "np.argmax(model.predict(img))\n",
    "\n",
    "\n"
   ]
  },
  {
   "cell_type": "code",
   "execution_count": 33,
   "id": "6cf139e8",
   "metadata": {},
   "outputs": [
    {
     "data": {
      "image/png": "[encoded data removed]",
      "text/plain": [
       "<Figure size 640x480 with 1 Axes>"
      ]
     },
     "metadata": {},
     "output_type": "display_data"
    },
    {
     "name": "stdout",
     "output_type": "stream",
     "text": [
      "1/1 [==============================] - 0s 14ms/step\n",
      "Real Image\n"
     ]
    }
   ],
   "source": [
    "# write a function to check the model on any image and print the result as if 0 then fake else real\n",
    "\n",
    "def check_image(image):\n",
    "    img = cv2.imread(image)\n",
    "    plt.imshow(img)\n",
    "    plt.show()\n",
    "    img = cv2.resize(img,(32,32))\n",
    "    img = img/255\n",
    "    img = np.expand_dims(img,axis = 0)\n",
    "    if np.argmax(model.predict(img)) == 0:\n",
    "        print('Fake Image')\n",
    "    else:\n",
    "        print('Real Image')\n",
    "\n",
    "check_image('real-and-ai/test/REAL/0000 (2).jpg')\n",
    "\n"
   ]
  },
  {
   "cell_type": "markdown",
   "id": "b5723beb",
   "metadata": {
    "papermill": {
     "duration": 0.831854,
     "end_time": "2023-05-16T02:18:44.943762",
     "exception": false,
     "start_time": "2023-05-16T02:18:44.111908",
     "status": "completed"
    },
    "tags": []
   },
   "source": [
    "## Confusion Matrix "
   ]
  },
  {
   "cell_type": "code",
   "execution_count": 34,
   "id": "d1843e70",
   "metadata": {
    "execution": {
     "iopub.execute_input": "2023-05-16T02:18:46.460856Z",
     "iopub.status.busy": "2023-05-16T02:18:46.460442Z",
     "iopub.status.idle": "2023-05-16T02:18:46.476007Z",
     "shell.execute_reply": "2023-05-16T02:18:46.474843Z"
    },
    "papermill": {
     "duration": 0.779442,
     "end_time": "2023-05-16T02:18:46.478970",
     "exception": false,
     "start_time": "2023-05-16T02:18:45.699528",
     "status": "completed"
    },
    "tags": []
   },
   "outputs": [],
   "source": [
    "from sklearn.metrics import confusion_matrix\n",
    "\n",
    "cm = confusion_matrix(y_test , y_pred_label)"
   ]
  },
  {
   "cell_type": "code",
   "execution_count": 35,
   "id": "da6ea6e6",
   "metadata": {
    "execution": {
     "iopub.execute_input": "2023-05-16T02:18:48.087867Z",
     "iopub.status.busy": "2023-05-16T02:18:48.087454Z",
     "iopub.status.idle": "2023-05-16T02:18:49.048657Z",
     "shell.execute_reply": "2023-05-16T02:18:49.047561Z"
    },
    "papermill": {
     "duration": 1.720016,
     "end_time": "2023-05-16T02:18:49.051196",
     "exception": false,
     "start_time": "2023-05-16T02:18:47.331180",
     "status": "completed"
    },
    "tags": []
   },
   "outputs": [
    {
     "data": {
      "image/png": "[encoded data removed]",
      "text/plain": [
       "<Figure size 400x400 with 2 Axes>"
      ]
     },
     "metadata": {},
     "output_type": "display_data"
    }
   ],
   "source": [
    "import matplotlib.pyplot as plt\n",
    "import seaborn as sn\n",
    "\n",
    "\n",
    "plt.figure(figsize=(4,4), facecolor= 'pink', edgecolor='brown')\n",
    "sn.heatmap(cm , annot= True, fmt=\"d\")\n",
    "plt.xlabel('Prediction', fontdict= {'family':'fantasy','color':'black','size':15})\n",
    "plt.ylabel('Truth', fontdict= {'family':'fantasy','color':'black','size':15})\n",
    "plt.title('Confusion Matrix',fontdict= {'family':'fantasy','color':'red','size':20})\n",
    "plt.show()"
   ]
  },
  {
   "cell_type": "markdown",
   "id": "8ccbb5cd",
   "metadata": {
    "papermill": {
     "duration": 0.758907,
     "end_time": "2023-05-16T02:18:50.609777",
     "exception": false,
     "start_time": "2023-05-16T02:18:49.850870",
     "status": "completed"
    },
    "tags": []
   },
   "source": [
    "## **THANK YOU !**"
   ]
  },
  {
   "cell_type": "code",
   "execution_count": 88,
   "id": "a373172b",
   "metadata": {},
   "outputs": [
    {
     "name": "stderr",
     "output_type": "stream",
     "text": [
      "/var/folders/fb/h_hd8lt52xx04sv8sg9pm5v40000gn/T/ipykernel_32310/1065272325.py:1: UserWarning: You are saving your model as an HDF5 file via `model.save()`. This file format is considered legacy. We recommend using instead the native Keras format, e.g. `model.save('my_model.keras')`.\n",
      "  tf.keras.models.save_model(model,'model.hdf5')\n"
     ]
    }
   ],
   "source": [
    "tf.keras.models.save_model(model,'model.hdf5')"
   ]
  },
  {
   "cell_type": "code",
   "execution_count": 89,
   "id": "2f7fdf5b",
   "metadata": {},
   "outputs": [
    {
     "name": "stdout",
     "output_type": "stream",
     "text": [
      "Writing app.py\n"
     ]
    }
   ],
   "source": [
    "%%writefile app.py\n",
    "\n",
    "import streamlit as st\n",
    "import tensorflow as tf\n",
    "import cv2\n",
    "\n",
    "st.set_option('deprecation.showfileUploaderEncoding', False)\n",
    "@st.cache(allow_output_mutation=True)\n",
    "def load_model():\n",
    "    model = tf.keras.models.load_model('model.hdf5')\n",
    "    return model\n",
    "model = load_model()\n",
    "st.write(\"\"\"\n",
    "            # Fake Image Detection\n",
    "            \"\"\"\n",
    "            )\n",
    "\n",
    "file = st.file_uploader(\"Please upload an image file\", type=[\"jpg\", \"png\"])\n",
    "\n",
    "import cv2\n",
    "\n",
    "from PIL import Image, ImageOps\n",
    "import numpy as np\n",
    "def import_and_predict(image_data, model):\n",
    "\n",
    "        size = (32,32)\n",
    "        image = ImageOps.fit(image_data, size, Image.ANTIALIAS)\n",
    "        img = np.asarray(image)\n",
    "        img_reshape = img[np.newaxis,...]\n",
    "        prediction = model.predict(img_reshape)\n",
    "        return prediction\n",
    "if file is None:\n",
    "    st.text(\"Please upload an image file\")\n",
    "else:\n",
    "    image = Image.open(file)\n",
    "    st.image(image, use_column_width=True)\n",
    "    predictions = import_and_predict(image, model)\n",
    "    class_names = ['Fake','Real']\n",
    "    string = \"This image most likely is: \"+class_names[np.argmax(predictions)]\n",
    "    st.success(string)\n",
    "    "
   ]
  },
  {
   "cell_type": "code",
   "execution_count": null,
   "id": "df26e88c",
   "metadata": {},
   "outputs": [],
   "source": []
  },
  {
   "cell_type": "code",
   "execution_count": null,
   "id": "73bfe4c4",
   "metadata": {},
   "outputs": [],
   "source": []
  },
  {
   "cell_type": "code",
   "execution_count": 90,
   "id": "9e6904d0",
   "metadata": {},
   "outputs": [
    {
     "name": "stdout",
     "output_type": "stream",
     "text": [
      "Authtoken saved to configuration file: /Users/ramavathjagadeesh/.ngrok2/ngrok.yml\n"
     ]
    }
   ],
   "source": [
    "!ngrok authtoken 2S3x9JMMH0rdWmRYmYQTVADI3Zp_31CmoKsUHCxFXdnvYfVe"
   ]
  },
  {
   "cell_type": "code",
   "execution_count": 103,
   "id": "598137fe",
   "metadata": {},
   "outputs": [
    {
     "name": "stdout",
     "output_type": "stream",
     "text": [
      "\n",
      "      👋 \u001b[1mWelcome to Streamlit!\u001b[0m\n",
      "\n",
      "      If you’d like to receive helpful onboarding emails, news, offers, promotions,\n",
      "      and the occasional swag, please enter your email address below. Otherwise,\n",
      "      leave this field blank.\n",
      "\n",
      "      \u001b[34mEmail: \u001b[0m ^C\n",
      "2023-07-04 20:40:24.207 \n"
     ]
    }
   ],
   "source": [
    "!streamlit run app.py \n"
   ]
  },
  {
   "cell_type": "code",
   "execution_count": 108,
   "id": "c8400fff",
   "metadata": {},
   "outputs": [
    {
     "name": "stderr",
     "output_type": "stream",
     "text": [
      "WARNING:pyngrok.process.ngrok:t=2023-07-04T20:50:51+0530 lvl=warn msg=\"failed to start tunnel\" pg=/api/tunnels id=71e824887522babc err=EOF\n"
     ]
    },
    {
     "ename": "PyngrokNgrokHTTPError",
     "evalue": "ngrok client exception, API returned 502: {\"error_code\":103,\"status_code\":502,\"msg\":\"failed to start tunnel\",\"details\":{\"err\":\"EOF\"}}\n",
     "output_type": "error",
     "traceback": [
      "\u001b[0;31m---------------------------------------------------------------------------\u001b[0m",
      "\u001b[0;31mHTTPError\u001b[0m                                 Traceback (most recent call last)",
      "File \u001b[0;32m/Library/Frameworks/Python.framework/Versions/3.11/lib/python3.11/site-packages/pyngrok/ngrok.py:466\u001b[0m, in \u001b[0;36mapi_request\u001b[0;34m(url, method, data, params, timeout)\u001b[0m\n\u001b[1;32m    465\u001b[0m \u001b[39mtry\u001b[39;00m:\n\u001b[0;32m--> 466\u001b[0m     response \u001b[39m=\u001b[39m urlopen(request, data, timeout)\n\u001b[1;32m    467\u001b[0m     response_data \u001b[39m=\u001b[39m response\u001b[39m.\u001b[39mread()\u001b[39m.\u001b[39mdecode(\u001b[39m\"\u001b[39m\u001b[39mutf-8\u001b[39m\u001b[39m\"\u001b[39m)\n",
      "File \u001b[0;32m/Library/Frameworks/Python.framework/Versions/3.11/lib/python3.11/urllib/request.py:216\u001b[0m, in \u001b[0;36murlopen\u001b[0;34m(url, data, timeout, cafile, capath, cadefault, context)\u001b[0m\n\u001b[1;32m    215\u001b[0m     opener \u001b[39m=\u001b[39m _opener\n\u001b[0;32m--> 216\u001b[0m \u001b[39mreturn\u001b[39;00m opener\u001b[39m.\u001b[39;49mopen(url, data, timeout)\n",
      "File \u001b[0;32m/Library/Frameworks/Python.framework/Versions/3.11/lib/python3.11/urllib/request.py:525\u001b[0m, in \u001b[0;36mOpenerDirector.open\u001b[0;34m(self, fullurl, data, timeout)\u001b[0m\n\u001b[1;32m    524\u001b[0m     meth \u001b[39m=\u001b[39m \u001b[39mgetattr\u001b[39m(processor, meth_name)\n\u001b[0;32m--> 525\u001b[0m     response \u001b[39m=\u001b[39m meth(req, response)\n\u001b[1;32m    527\u001b[0m \u001b[39mreturn\u001b[39;00m response\n",
      "File \u001b[0;32m/Library/Frameworks/Python.framework/Versions/3.11/lib/python3.11/urllib/request.py:634\u001b[0m, in \u001b[0;36mHTTPErrorProcessor.http_response\u001b[0;34m(self, request, response)\u001b[0m\n\u001b[1;32m    633\u001b[0m \u001b[39mif\u001b[39;00m \u001b[39mnot\u001b[39;00m (\u001b[39m200\u001b[39m \u001b[39m<\u001b[39m\u001b[39m=\u001b[39m code \u001b[39m<\u001b[39m \u001b[39m300\u001b[39m):\n\u001b[0;32m--> 634\u001b[0m     response \u001b[39m=\u001b[39m \u001b[39mself\u001b[39;49m\u001b[39m.\u001b[39;49mparent\u001b[39m.\u001b[39;49merror(\n\u001b[1;32m    635\u001b[0m         \u001b[39m'\u001b[39;49m\u001b[39mhttp\u001b[39;49m\u001b[39m'\u001b[39;49m, request, response, code, msg, hdrs)\n\u001b[1;32m    637\u001b[0m \u001b[39mreturn\u001b[39;00m response\n",
      "File \u001b[0;32m/Library/Frameworks/Python.framework/Versions/3.11/lib/python3.11/urllib/request.py:563\u001b[0m, in \u001b[0;36mOpenerDirector.error\u001b[0;34m(self, proto, *args)\u001b[0m\n\u001b[1;32m    562\u001b[0m args \u001b[39m=\u001b[39m (\u001b[39mdict\u001b[39m, \u001b[39m'\u001b[39m\u001b[39mdefault\u001b[39m\u001b[39m'\u001b[39m, \u001b[39m'\u001b[39m\u001b[39mhttp_error_default\u001b[39m\u001b[39m'\u001b[39m) \u001b[39m+\u001b[39m orig_args\n\u001b[0;32m--> 563\u001b[0m \u001b[39mreturn\u001b[39;00m \u001b[39mself\u001b[39;49m\u001b[39m.\u001b[39;49m_call_chain(\u001b[39m*\u001b[39;49margs)\n",
      "File \u001b[0;32m/Library/Frameworks/Python.framework/Versions/3.11/lib/python3.11/urllib/request.py:496\u001b[0m, in \u001b[0;36mOpenerDirector._call_chain\u001b[0;34m(self, chain, kind, meth_name, *args)\u001b[0m\n\u001b[1;32m    495\u001b[0m func \u001b[39m=\u001b[39m \u001b[39mgetattr\u001b[39m(handler, meth_name)\n\u001b[0;32m--> 496\u001b[0m result \u001b[39m=\u001b[39m func(\u001b[39m*\u001b[39;49margs)\n\u001b[1;32m    497\u001b[0m \u001b[39mif\u001b[39;00m result \u001b[39mis\u001b[39;00m \u001b[39mnot\u001b[39;00m \u001b[39mNone\u001b[39;00m:\n",
      "File \u001b[0;32m/Library/Frameworks/Python.framework/Versions/3.11/lib/python3.11/urllib/request.py:643\u001b[0m, in \u001b[0;36mHTTPDefaultErrorHandler.http_error_default\u001b[0;34m(self, req, fp, code, msg, hdrs)\u001b[0m\n\u001b[1;32m    642\u001b[0m \u001b[39mdef\u001b[39;00m \u001b[39mhttp_error_default\u001b[39m(\u001b[39mself\u001b[39m, req, fp, code, msg, hdrs):\n\u001b[0;32m--> 643\u001b[0m     \u001b[39mraise\u001b[39;00m HTTPError(req\u001b[39m.\u001b[39mfull_url, code, msg, hdrs, fp)\n",
      "\u001b[0;31mHTTPError\u001b[0m: HTTP Error 502: Bad Gateway",
      "\nDuring handling of the above exception, another exception occurred:\n",
      "\u001b[0;31mPyngrokNgrokHTTPError\u001b[0m                     Traceback (most recent call last)",
      "Cell \u001b[0;32mIn[108], line 2\u001b[0m\n\u001b[1;32m      1\u001b[0m \u001b[39mfrom\u001b[39;00m \u001b[39mpyngrok\u001b[39;00m \u001b[39mimport\u001b[39;00m ngrok\n\u001b[0;32m----> 2\u001b[0m url \u001b[39m=\u001b[39m ngrok\u001b[39m.\u001b[39;49mconnect(port \u001b[39m=\u001b[39;49m \u001b[39m4041\u001b[39;49m)\n\u001b[1;32m      3\u001b[0m url\n",
      "File \u001b[0;32m/Library/Frameworks/Python.framework/Versions/3.11/lib/python3.11/site-packages/pyngrok/ngrok.py:281\u001b[0m, in \u001b[0;36mconnect\u001b[0;34m(addr, proto, name, pyngrok_config, **options)\u001b[0m\n\u001b[1;32m    277\u001b[0m api_url \u001b[39m=\u001b[39m get_ngrok_process(pyngrok_config)\u001b[39m.\u001b[39mapi_url\n\u001b[1;32m    279\u001b[0m logger\u001b[39m.\u001b[39mdebug(\u001b[39m\"\u001b[39m\u001b[39mCreating tunnel with options: \u001b[39m\u001b[39m{}\u001b[39;00m\u001b[39m\"\u001b[39m\u001b[39m.\u001b[39mformat(options))\n\u001b[0;32m--> 281\u001b[0m tunnel \u001b[39m=\u001b[39m NgrokTunnel(api_request(\u001b[39m\"\u001b[39;49m\u001b[39m{}\u001b[39;49;00m\u001b[39m/api/tunnels\u001b[39;49m\u001b[39m\"\u001b[39;49m\u001b[39m.\u001b[39;49mformat(api_url), method\u001b[39m=\u001b[39;49m\u001b[39m\"\u001b[39;49m\u001b[39mPOST\u001b[39;49m\u001b[39m\"\u001b[39;49m, data\u001b[39m=\u001b[39;49moptions,\n\u001b[1;32m    282\u001b[0m                                  timeout\u001b[39m=\u001b[39;49mpyngrok_config\u001b[39m.\u001b[39;49mrequest_timeout),\n\u001b[1;32m    283\u001b[0m                      pyngrok_config, api_url)\n\u001b[1;32m    285\u001b[0m \u001b[39mif\u001b[39;00m pyngrok_config\u001b[39m.\u001b[39mngrok_version \u001b[39m==\u001b[39m \u001b[39m\"\u001b[39m\u001b[39mv2\u001b[39m\u001b[39m\"\u001b[39m \u001b[39mand\u001b[39;00m proto \u001b[39m==\u001b[39m \u001b[39m\"\u001b[39m\u001b[39mhttp\u001b[39m\u001b[39m\"\u001b[39m \u001b[39mand\u001b[39;00m options\u001b[39m.\u001b[39mget(\u001b[39m\"\u001b[39m\u001b[39mbind_tls\u001b[39m\u001b[39m\"\u001b[39m, \u001b[39m\"\u001b[39m\u001b[39mboth\u001b[39m\u001b[39m\"\u001b[39m) \u001b[39m==\u001b[39m \u001b[39m\"\u001b[39m\u001b[39mboth\u001b[39m\u001b[39m\"\u001b[39m:\n\u001b[1;32m    286\u001b[0m     tunnel \u001b[39m=\u001b[39m NgrokTunnel(api_request(\u001b[39m\"\u001b[39m\u001b[39m{}\u001b[39;00m\u001b[39m{}\u001b[39;00m\u001b[39m%20%\u001b[39;00m\u001b[39m28http\u001b[39m\u001b[39m%\u001b[39m\u001b[39m29\u001b[39m\u001b[39m\"\u001b[39m\u001b[39m.\u001b[39mformat(api_url, tunnel\u001b[39m.\u001b[39muri), method\u001b[39m=\u001b[39m\u001b[39m\"\u001b[39m\u001b[39mGET\u001b[39m\u001b[39m\"\u001b[39m,\n\u001b[1;32m    287\u001b[0m                                      timeout\u001b[39m=\u001b[39mpyngrok_config\u001b[39m.\u001b[39mrequest_timeout),\n\u001b[1;32m    288\u001b[0m                          pyngrok_config, api_url)\n",
      "File \u001b[0;32m/Library/Frameworks/Python.framework/Versions/3.11/lib/python3.11/site-packages/pyngrok/ngrok.py:487\u001b[0m, in \u001b[0;36mapi_request\u001b[0;34m(url, method, data, params, timeout)\u001b[0m\n\u001b[1;32m    484\u001b[0m     status_code \u001b[39m=\u001b[39m e\u001b[39m.\u001b[39mgetcode()\n\u001b[1;32m    485\u001b[0m     logger\u001b[39m.\u001b[39mdebug(\u001b[39m\"\u001b[39m\u001b[39mResponse \u001b[39m\u001b[39m{}\u001b[39;00m\u001b[39m: \u001b[39m\u001b[39m{}\u001b[39;00m\u001b[39m\"\u001b[39m\u001b[39m.\u001b[39mformat(status_code, response_data\u001b[39m.\u001b[39mstrip()))\n\u001b[0;32m--> 487\u001b[0m     \u001b[39mraise\u001b[39;00m PyngrokNgrokHTTPError(\u001b[39m\"\u001b[39m\u001b[39mngrok client exception, API returned \u001b[39m\u001b[39m{}\u001b[39;00m\u001b[39m: \u001b[39m\u001b[39m{}\u001b[39;00m\u001b[39m\"\u001b[39m\u001b[39m.\u001b[39mformat(status_code, response_data),\n\u001b[1;32m    488\u001b[0m                                 e\u001b[39m.\u001b[39murl,\n\u001b[1;32m    489\u001b[0m                                 status_code, e\u001b[39m.\u001b[39mmsg, e\u001b[39m.\u001b[39mhdrs, response_data)\n\u001b[1;32m    490\u001b[0m \u001b[39mexcept\u001b[39;00m URLError \u001b[39mas\u001b[39;00m e:\n\u001b[1;32m    491\u001b[0m     \u001b[39mraise\u001b[39;00m PyngrokNgrokURLError(\u001b[39m\"\u001b[39m\u001b[39mngrok client exception, URLError: \u001b[39m\u001b[39m{}\u001b[39;00m\u001b[39m\"\u001b[39m\u001b[39m.\u001b[39mformat(e\u001b[39m.\u001b[39mreason), e\u001b[39m.\u001b[39mreason)\n",
      "\u001b[0;31mPyngrokNgrokHTTPError\u001b[0m: ngrok client exception, API returned 502: {\"error_code\":103,\"status_code\":502,\"msg\":\"failed to start tunnel\",\"details\":{\"err\":\"EOF\"}}\n"
     ]
    }
   ],
   "source": [
    "from pyngrok import ngrok\n",
    "url = ngrok.connect(port = 4041)\n",
    "url"
   ]
  },
  {
   "cell_type": "code",
   "execution_count": null,
   "id": "4b1ea685",
   "metadata": {},
   "outputs": [],
   "source": []
  },
  {
   "cell_type": "code",
   "execution_count": null,
   "id": "f2221c7b",
   "metadata": {},
   "outputs": [],
   "source": []
  },
  {
   "cell_type": "code",
   "execution_count": null,
   "id": "1673d91c",
   "metadata": {},
   "outputs": [],
   "source": []
  },
  {
   "cell_type": "code",
   "execution_count": 85,
   "id": "daf8f840",
   "metadata": {},
   "outputs": [
    {
     "name": "stdout",
     "output_type": "stream",
     "text": [
      "INFO:tensorflow:Assets written to: /var/folders/fb/h_hd8lt52xx04sv8sg9pm5v40000gn/T/tmpf8q5ukbt/assets\n"
     ]
    },
    {
     "name": "stderr",
     "output_type": "stream",
     "text": [
      "INFO:tensorflow:Assets written to: /var/folders/fb/h_hd8lt52xx04sv8sg9pm5v40000gn/T/tmpf8q5ukbt/assets\n",
      "2023-07-04 17:18:17.820287: W tensorflow/compiler/mlir/lite/python/tf_tfl_flatbuffer_helpers.cc:364] Ignored output_format.\n",
      "2023-07-04 17:18:17.820459: W tensorflow/compiler/mlir/lite/python/tf_tfl_flatbuffer_helpers.cc:367] Ignored drop_control_dependency.\n",
      "2023-07-04 17:18:17.824561: I tensorflow/cc/saved_model/reader.cc:45] Reading SavedModel from: /var/folders/fb/h_hd8lt52xx04sv8sg9pm5v40000gn/T/tmpf8q5ukbt\n",
      "2023-07-04 17:18:17.825980: I tensorflow/cc/saved_model/reader.cc:91] Reading meta graph with tags { serve }\n",
      "2023-07-04 17:18:17.825988: I tensorflow/cc/saved_model/reader.cc:132] Reading SavedModel debug info (if present) from: /var/folders/fb/h_hd8lt52xx04sv8sg9pm5v40000gn/T/tmpf8q5ukbt\n",
      "2023-07-04 17:18:17.831309: I tensorflow/compiler/mlir/mlir_graph_optimization_pass.cc:375] MLIR V1 optimization pass is not enabled\n",
      "2023-07-04 17:18:17.833416: I tensorflow/cc/saved_model/loader.cc:231] Restoring SavedModel bundle.\n",
      "2023-07-04 17:18:17.935516: I tensorflow/cc/saved_model/loader.cc:215] Running initialization op on SavedModel bundle at path: /var/folders/fb/h_hd8lt52xx04sv8sg9pm5v40000gn/T/tmpf8q5ukbt\n",
      "2023-07-04 17:18:17.952405: I tensorflow/cc/saved_model/loader.cc:314] SavedModel load for tags { serve }; Status: success: OK. Took 127841 microseconds.\n",
      "2023-07-04 17:18:17.987633: I tensorflow/compiler/mlir/tensorflow/utils/dump_mlir_util.cc:255] disabling MLIR crash reproducer, set env var `MLIR_CRASH_REPRODUCER_DIRECTORY` to enable.\n"
     ]
    }
   ],
   "source": [
    "converter = tf.lite.TFLiteConverter.from_keras_model(model)\n",
    "tflite_model = converter.convert()\n",
    "\n",
    "with open('model.tflite', 'wb') as f:\n",
    "    f.write(tflite_model)"
   ]
  },
  {
   "cell_type": "code",
   "execution_count": null,
   "id": "ffb09828",
   "metadata": {},
   "outputs": [],
   "source": []
  }
 ],
 "metadata": {
  "kernelspec": {
   "display_name": "Python 3",
   "language": "python",
   "name": "python3"
  },
  "language_info": {
   "codemirror_mode": {
    "name": "ipython",
    "version": 3
   },
   "file_extension": ".py",
   "mimetype": "text/x-python",
   "name": "python",
   "nbconvert_exporter": "python",
   "pygments_lexer": "ipython3",
   "version": "3.11.4"
  },
  "papermill": {
   "default_parameters": {},
   "duration": 1602.885985,
   "end_time": "2023-05-16T02:18:54.287650",
   "environment_variables": {},
   "exception": null,
   "input_path": "__notebook__.ipynb",
   "output_path": "__notebook__.ipynb",
   "parameters": {},
   "start_time": "2023-05-16T01:52:11.401665",
   "version": "2.4.0"
  }
 },
 "nbformat": 4,
 "nbformat_minor": 5
}
